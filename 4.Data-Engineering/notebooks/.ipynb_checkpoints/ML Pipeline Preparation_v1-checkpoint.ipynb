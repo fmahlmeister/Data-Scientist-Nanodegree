{
 "cells": [
  {
   "cell_type": "markdown",
   "metadata": {},
   "source": [
    "# ML Pipeline Preparation\n",
    "Follow the instructions below to help you create your ML pipeline.\n",
    "### 1. Import libraries and load data from database.\n",
    "- Import Python libraries\n",
    "- Load dataset from database with [`read_sql_table`](https://pandas.pydata.org/pandas-docs/stable/generated/pandas.read_sql_table.html)\n",
    "- Define feature and target variables X and Y"
   ]
  },
  {
   "cell_type": "code",
   "execution_count": null,
   "metadata": {},
   "outputs": [],
   "source": [
    "# import libraries\n",
    "import pandas as pd\n",
    "import numpy as np\n",
    "import matplotlib.pyplot as plt\n",
    "%matplotlib inline\n",
    "import seaborn as sns; sns.set()\n",
    "from sqlalchemy import create_engine\n",
    "import warnings\n",
    "warnings.filterwarnings('ignore')  # \"error\", \"ignore\", \"always\", \"default\", \"module\" or \"once\"\n",
    "\n",
    "import time\n",
    "\n",
    "import re\n",
    "import nltk\n",
    "from nltk.corpus import stopwords\n",
    "from nltk.stem import WordNetLemmatizer\n",
    "from nltk.tokenize import word_tokenize\n",
    "from nltk.tokenize import RegexpTokenizer\n",
    "\n",
    "import pickle\n",
    "from sklearn.feature_extraction.text import TfidfVectorizer\n",
    "from sklearn.feature_extraction.text import CountVectorizer, TfidfTransformer\n",
    "from sklearn.pipeline import Pipeline\n",
    "from sklearn.model_selection import train_test_split\n",
    "from sklearn.model_selection import GridSearchCV\n",
    "from sklearn.metrics import classification_report\n",
    "from sklearn.multiclass import OneVsRestClassifier\n",
    "from sklearn.multioutput import MultiOutputClassifier\n",
    "from sklearn.externals import joblib\n",
    "\n",
    "from sklearn.ensemble import RandomForestClassifier, AdaBoostClassifier\n",
    "from sklearn.tree import DecisionTreeClassifier\n",
    "from sklearn.svm import LinearSVC\n",
    "from sklearn.svm import SVC\n",
    "\n",
    "from sklearn.metrics import classification_report, accuracy_score, precision_score, recall_score, f1_score"
   ]
  },
  {
   "cell_type": "code",
   "execution_count": null,
   "metadata": {},
   "outputs": [],
   "source": [
    "# load data from database\n",
    "engine = create_engine('sqlite:///DisasterResponse.db')\n",
    "df = pd.read_sql_table('DisasterResponse', con=engine)\n",
    "X = df.loc[:,'message']\n",
    "y = df.iloc[:,4:]\n",
    "category_names = y.columns"
   ]
  },
  {
   "cell_type": "markdown",
   "metadata": {},
   "source": [
    "### 2. Write a tokenization function to process your text data"
   ]
  },
  {
   "cell_type": "code",
   "execution_count": null,
   "metadata": {
    "scrolled": true
   },
   "outputs": [],
   "source": [
    "def tokenize(text):\n",
    "    # normalize case and remove punctuation    \n",
    "    tokenizer = RegexpTokenizer(r'\\w+')\n",
    "\n",
    "    # tokenize text\n",
    "    token_words = tokenizer.tokenize(text.lower())\n",
    "    \n",
    "    # remove stop words\n",
    "    token_words = [w for w in token_words if w not in stopwords.words('english')]\n",
    "    \n",
    "    # extract root form of words\n",
    "    token_words = [WordNetLemmatizer().lemmatize(word, pos='v') for word in token_words]\n",
    "    \n",
    "    return token_words"
   ]
  },
  {
   "cell_type": "markdown",
   "metadata": {},
   "source": [
    "### 3. Build a machine learning pipeline\n",
    "This machine pipeline should take in the `message` column as input and output classification results on the other 36 categories in the dataset. You may find the [MultiOutputClassifier](http://scikit-learn.org/stable/modules/generated/sklearn.multioutput.MultiOutputClassifier.html) helpful for predicting multiple target variables."
   ]
  },
  {
   "cell_type": "code",
   "execution_count": null,
   "metadata": {},
   "outputs": [],
   "source": [
    "def build_model():\n",
    "    \n",
    "    pipeline = Pipeline([\n",
    "\n",
    "        ('tfidfV', TfidfVectorizer(tokenizer=tokenize)),\n",
    "\n",
    "        ('clf', MultiOutputClassifier(\n",
    "            \n",
    "            RandomForestClassifier(random_state=42)\n",
    "\n",
    "        ))\n",
    "\n",
    "    ])\n",
    "    \n",
    "    return pipeline"
   ]
  },
  {
   "cell_type": "markdown",
   "metadata": {},
   "source": [
    "### 4. Train pipeline\n",
    "- Split data into train and test sets\n",
    "- Train pipeline"
   ]
  },
  {
   "cell_type": "code",
   "execution_count": null,
   "metadata": {
    "scrolled": true
   },
   "outputs": [],
   "source": [
    "start = time.time()\n",
    "\n",
    "X_train, X_test, y_train, y_test = train_test_split(X, y, test_size=0.3, random_state=42)\n",
    "\n",
    "model = build_model()\n",
    "\n",
    "model.fit(X_train, y_train)\n",
    "\n",
    "end = time.time()\n",
    "print((end-start)/60, 'minutes')"
   ]
  },
  {
   "cell_type": "markdown",
   "metadata": {},
   "source": [
    "### 5. Test your model\n",
    "Report the f1 score, precision and recall for each output category of the dataset. You can do this by iterating through the columns and calling sklearn's `classification_report` on each."
   ]
  },
  {
   "cell_type": "code",
   "execution_count": null,
   "metadata": {},
   "outputs": [],
   "source": [
    "def multioutput_classification_report(y_test, y_pred):\n",
    "    \n",
    "    accuracy_list, precision_list, recall_list, f1_list = [], [], [], []\n",
    "    categories_name = list(y_test.columns)\n",
    "    \n",
    "    for i in range(0, len(y_test.columns)):\n",
    " \n",
    "        accuracy_list.append(accuracy_score(y_test.values[:, i], y_pred[:, i]))\n",
    "        precision_list.append(precision_score(y_test.values[:, i], y_pred[:, i], average='weighted'))\n",
    "        recall_list.append(recall_score(y_test.values[:, i], y_pred[:, i], average='weighted'))\n",
    "        f1_list.append(f1_score(y_test.values[:, i], y_pred[:, i], average='weighted'))\n",
    "    \n",
    "    df = pd.DataFrame([accuracy_list,precision_list,recall_list,f1_list],\n",
    "                                columns=categories_name,\n",
    "                                index=['accuracy_score',\n",
    "                                       'precision_score',\n",
    "                                       'recall_score',\n",
    "                                       'f1_score'])\n",
    "    df = df.T\n",
    "    \n",
    "    return df"
   ]
  },
  {
   "cell_type": "code",
   "execution_count": null,
   "metadata": {},
   "outputs": [],
   "source": [
    "# predict\n",
    "y_pred = model.predict(X_test)\n",
    "\n",
    "df_clf = multioutput_classification_report(y_test,y_pred)\n",
    "df_clf.mean()"
   ]
  },
  {
   "cell_type": "markdown",
   "metadata": {},
   "source": [
    "## Machine Learning Score Version Control\n",
    "v0: standard<br>\n",
    "v1: add stopwords removal<br>\n",
    "v2: add word lemmatize<br>\n",
    "v3: remove OneVsRestClassifier<br>"
   ]
  },
  {
   "cell_type": "code",
   "execution_count": null,
   "metadata": {},
   "outputs": [],
   "source": [
    "score_v0 = [0.942322, 0.932476, 0.942322, 0.928121]\n",
    "score_v1 = [0.943629, 0.933004, 0.943629, 0.931176]\n",
    "score_v2 = [0.943731, 0.932356, 0.943731, 0.931113]\n",
    "score_v3 = [0.943961, 0.933169, 0.943961, 0.931697]\n",
    "\n",
    "# index_list = ['accuracy_score','precision_score','recall_score','f1_score']\n",
    "df_score = pd.DataFrame(list(zip(score_v0, score_v1, score_v2, score_v3)),\n",
    "                        columns=['v0','v1','v2','v3'],\n",
    "                        index=['accuracy_score',\n",
    "                               'precision_score',\n",
    "                               'recall_score',\n",
    "                               'f1_score'])\n",
    "# last version - last but one version\n",
    "df_score['improvement [%]'] = (df_score.iloc[:,-1]-df_score.iloc[:,-2])*100\n",
    "df_score"
   ]
  },
  {
   "cell_type": "code",
   "execution_count": null,
   "metadata": {},
   "outputs": [],
   "source": [
    "plt.figure(figsize=(16, 6))\n",
    "g = sns.lineplot(data=df_class)\n",
    "g.set_xticklabels(labels = df_clf.index, rotation=90)\n",
    "plt.title('Multioutput Classification')\n",
    "plt.ylabel('Accuracy')\n",
    "plt.show()"
   ]
  },
  {
   "cell_type": "markdown",
   "metadata": {},
   "source": [
    "### 6. Improve your model\n",
    "Use grid search to find better parameters. "
   ]
  },
  {
   "cell_type": "code",
   "execution_count": null,
   "metadata": {},
   "outputs": [],
   "source": [
    "def build_model():\n",
    "    \n",
    "    pipeline = Pipeline([\n",
    "        ('tfidfV', TfidfVectorizer(tokenizer=tokenize)),\n",
    "        ('clf', MultiOutputClassifier(RandomForestClassifier(random_state=42)))\n",
    "    ])\n",
    "    \n",
    "    parameters = {\n",
    "        'tfidfV__ngram_range': ((1, 1), (1, 2)),\n",
    "        'clf__estimator__min_samples_split': [2, 4]\n",
    "    }\n",
    "    \n",
    "    cv = GridSearchCV(pipeline, \n",
    "                      param_grid=parameters, \n",
    "                      verbose=2,\n",
    "                      n_jobs=-1,\n",
    "                      cv=3)\n",
    "    \n",
    "    return cv"
   ]
  },
  {
   "cell_type": "code",
   "execution_count": null,
   "metadata": {},
   "outputs": [],
   "source": [
    "start = time.time()\n",
    "\n",
    "X_train, X_test, y_train, y_test = train_test_split(X, y, test_size=0.3, random_state=42)\n",
    "\n",
    "model = build_model()\n",
    "\n",
    "model.fit(X_train, y_train)\n",
    "\n",
    "end = time.time()\n",
    "print('')\n",
    "print('Training time')\n",
    "print((end-start)/60, 'minutes')"
   ]
  },
  {
   "cell_type": "markdown",
   "metadata": {},
   "source": [
    "### 7. Test your model\n",
    "Show the accuracy, precision, and recall of the tuned model.  \n",
    "\n",
    "Since this project focuses on code quality, process, and  pipelines, there is no minimum performance metric needed to pass. However, make sure to fine tune your models for accuracy, precision and recall to make your project stand out - especially for your portfolio!"
   ]
  },
  {
   "cell_type": "code",
   "execution_count": null,
   "metadata": {},
   "outputs": [],
   "source": [
    "# predict\n",
    "y_pred = model.predict(X_test)\n",
    "\n",
    "df_clf = multioutput_classification_report(y_test,y_pred)\n",
    "df_clf.mean()"
   ]
  },
  {
   "cell_type": "markdown",
   "metadata": {},
   "source": [
    "### 8. Try improving your model further. Here are a few ideas:\n",
    "* try other machine learning algorithms\n",
    "* add other features besides the TF-IDF"
   ]
  },
  {
   "cell_type": "code",
   "execution_count": null,
   "metadata": {},
   "outputs": [],
   "source": [
    "def best_model():\n",
    "    \n",
    "    pipeline_ab = Pipeline([\n",
    "        ('tfidfV', TfidfVectorizer(tokenizer=tokenize)),\n",
    "        ('clf', MultiOutputClassifier(\n",
    "            AdaBoostClassifier(base_estimator=DecisionTreeClassifier(max_depth=1))))\n",
    "    ]) \n",
    "    \n",
    "    \n",
    "    pipeline_rf = Pipeline([\n",
    "        ('tfidfV', TfidfVectorizer(tokenizer=tokenize)),\n",
    "        ('clf', MultiOutputClassifier(RandomForestClassifier()))\n",
    "    ])\n",
    "    \n",
    "    pipeline_lsvc = Pipeline([\n",
    "        ('tfidfV', TfidfVectorizer(tokenizer=tokenize)),\n",
    "        ('clf', MultiOutputClassifier(\n",
    "            OneVsRestClassifier(LinearSVC())))\n",
    "    ])\n",
    "    \n",
    "    parameters = {}\n",
    "    \n",
    "    # Construct grid searches\n",
    "    jobs = -1\n",
    "    \n",
    "    gs_ab = GridSearchCV(pipeline_ab, \n",
    "                         param_grid=parameters,\n",
    "                         verbose=2,\n",
    "                         n_jobs=jobs,\n",
    "                         cv=3)\n",
    "    \n",
    "    gs_rf = GridSearchCV(pipeline_rf, \n",
    "                         param_grid=parameters,\n",
    "                         verbose=2,\n",
    "                         n_jobs=jobs,\n",
    "                         cv=3)\n",
    "\n",
    "    gs_lsvc = GridSearchCV(pipeline_lsvc, \n",
    "                           param_grid=parameters,\n",
    "                           verbose=2,\n",
    "                           n_jobs=jobs,\n",
    "                           cv=3)\n",
    "    \n",
    "    # List of pipelines for ease of iteration\n",
    "    grids = [gs_ab,gs_rf,gs_lsvc]\n",
    "    \n",
    "    # Dictionary of pipelines and classifier types for ease of reference\n",
    "    grid_dict = {0: 'AdaBoost Classifier',\n",
    "                 1: 'Random Forest',\n",
    "                 2: 'Linear Support Vector Classification'}\n",
    "    \n",
    "    # Fit the grid search objects\n",
    "    print('Finding the best model...')\n",
    "    best_acc = 0.0\n",
    "    best_clf = 0\n",
    "    best_gs = ''\n",
    "    \n",
    "    for idx, gs in enumerate(grids):\n",
    "        \n",
    "        print('\\nEstimator: %s' % grid_dict[idx])\n",
    "        \n",
    "        # Fit grid search\n",
    "        gs.fit(X_train, y_train)\n",
    "        \n",
    "        # Best params\n",
    "        print('Best params: %s' % gs.best_params_)\n",
    "        \n",
    "        # Best training data accuracy\n",
    "        print('Best training accuracy: %.3f' % gs.best_score_)\n",
    "        \n",
    "        # Predict on test data with best params\n",
    "        y_pred = gs.predict(X_test)\n",
    "        \n",
    "        f1_score = multioutput_classification_report(y_test,y_pred).f1_score.mean()\n",
    "        \n",
    "        # Test data accuracy of model with best params\n",
    "        print('Test f1 score for best params: %.3f ' % f1_score)\n",
    "        \n",
    "        # Track best (highest test accuracy) model\n",
    "        if f1_score > best_acc:\n",
    "            best_acc = f1_score\n",
    "            best_gs = gs\n",
    "            best_clf = idx\n",
    "            \n",
    "    print('\\nClassifier with best test set accuracy: %s' % grid_dict[best_clf])\n",
    "\n",
    "    return best_gs"
   ]
  },
  {
   "cell_type": "code",
   "execution_count": null,
   "metadata": {},
   "outputs": [],
   "source": [
    "start = time.time()\n",
    "\n",
    "X_train, X_test, y_train, y_test = train_test_split(X, y, test_size=0.3, random_state=42)\n",
    "\n",
    "best_model = best_model()\n",
    "\n",
    "end = time.time()\n",
    "print('')\n",
    "print('Training time')\n",
    "print((end-start)/60, 'minutes')"
   ]
  },
  {
   "cell_type": "code",
   "execution_count": null,
   "metadata": {},
   "outputs": [],
   "source": [
    "def build_model():\n",
    "    \n",
    "    pipeline = Pipeline([\n",
    "        ('tfidfV', TfidfVectorizer(tokenizer=tokenize)),\n",
    "        ('clf', MultiOutputClassifier(\n",
    "            OneVsRestClassifier(LinearSVC())))\n",
    "    ])\n",
    "    \n",
    "    parameters = {'tfidfV__ngram_range': ((1, 1), (1, 2)),\n",
    "                  'tfidfV__max_df':(0.75, 1.0),\n",
    "                  'clf__estimator__estimator__C':[0.5,1,2], \n",
    "                  'clf__estimator__estimator__max_iter':[100]}\n",
    "   \n",
    "    # Construct grid searches\n",
    "    jobs = -1\n",
    "    \n",
    "    gs = GridSearchCV(pipeline, \n",
    "                      param_grid=parameters,\n",
    "                      verbose=2,\n",
    "                      n_jobs=jobs,\n",
    "                      cv=3)\n",
    "\n",
    "    # Dictionary of pipelines and classifier types for ease of reference\n",
    "    grid_dict = {0: 'Linear Support Vector Classification'}\n",
    "    \n",
    "    # Fit the grid search objects\n",
    "    print('Performing model optimizations...')\n",
    "    \n",
    "    print('\\nEstimator: %s' % grid_dict[0])\n",
    "    \n",
    "    gs.fit(X_train, y_train)\n",
    "\n",
    "    # Best params\n",
    "    print('Best params: %s' % gs.best_params_)\n",
    "    \n",
    "    # Best training data accuracy\n",
    "    print('Best training accuracy: %.3f' % gs.best_score_)\n",
    "    \n",
    "    # Predict on test data with best params\n",
    "    y_pred = gs.predict(X_test)\n",
    "    \n",
    "    f1_score = multioutput_classification_report(y_test,y_pred).f1_score.mean()    \n",
    "    \n",
    "    # Test data accuracy of model with best params\n",
    "    print('Test f1 score for best params: %.3f ' % f1_score)\n",
    "\n",
    "    return gs"
   ]
  },
  {
   "cell_type": "code",
   "execution_count": null,
   "metadata": {},
   "outputs": [],
   "source": [
    "start = time.time()\n",
    "\n",
    "X_train, X_test, y_train, y_test = train_test_split(X, y, test_size=0.3, random_state=42)\n",
    "\n",
    "best_model_param = build_model()\n",
    "\n",
    "end = time.time()\n",
    "print('')\n",
    "print('Training time')\n",
    "print((end-start)/60, 'minutes')"
   ]
  },
  {
   "cell_type": "markdown",
   "metadata": {},
   "source": [
    "### 9. Export your model as a pickle file"
   ]
  },
  {
   "cell_type": "code",
   "execution_count": null,
   "metadata": {
    "scrolled": true
   },
   "outputs": [],
   "source": [
    "# Save best grid search pipeline to file\n",
    "dump_file = 'best_model_1.pkl'\n",
    "with open(dump_file, 'wb') as file:\n",
    "    pickle.dump(best_model_param.best_estimator_, file)\n",
    "print('\\nSaved grid search pipeline to file: %s' % (dump_file))"
   ]
  },
  {
   "cell_type": "code",
   "execution_count": null,
   "metadata": {},
   "outputs": [],
   "source": [
    "# Save best grid search pipeline to file\n",
    "dump_file = 'best_model.pkl'\n",
    "joblib.dump(best_model_param.best_estimator_, dump_file, compress=1)\n",
    "print('\\nSaved grid search pipeline to file: %s' % (dump_file))"
   ]
  },
  {
   "cell_type": "markdown",
   "metadata": {},
   "source": [
    "### 10. Use this notebook to complete `train.py`\n",
    "Use the template file attached in the Resources folder to write a script that runs the steps above to create a database and export a model based on a new dataset specified by the user."
   ]
  },
  {
   "cell_type": "code",
   "execution_count": null,
   "metadata": {},
   "outputs": [],
   "source": []
  }
 ],
 "metadata": {
  "kernelspec": {
   "display_name": "Python 3",
   "language": "python",
   "name": "python3"
  },
  "language_info": {
   "codemirror_mode": {
    "name": "ipython",
    "version": 3
   },
   "file_extension": ".py",
   "mimetype": "text/x-python",
   "name": "python",
   "nbconvert_exporter": "python",
   "pygments_lexer": "ipython3",
   "version": "3.7.3"
  }
 },
 "nbformat": 4,
 "nbformat_minor": 2
}
